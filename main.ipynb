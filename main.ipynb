{
 "cells": [
  {
   "cell_type": "code",
   "execution_count": 1,
   "id": "2250ba7c",
   "metadata": {},
   "outputs": [],
   "source": [
    "import numpy as np\n",
    "import csv\n",
    "\n",
    "from descriptors_values import DescriptorsValues"
   ]
  },
  {
   "cell_type": "markdown",
   "id": "a17cbeab",
   "metadata": {},
   "source": [
    "# Algorithm for ACC-transformation of peptides"
   ]
  },
  {
   "cell_type": "markdown",
   "id": "72a53b93",
   "metadata": {},
   "source": [
    "### 1. Introduction\n",
    "\n",
    "Proteins are large biomolecules and macromolecules that comprise one or more long chains of amino acid residues. Proteins perform a vast array of functions within organisms, including catalyzing metabolic reactions, DNA replication, responding to stimuli, providing structure to cells and organisms, and transporting molecules from one location to another.\n",
    "\n",
    "These protein functions are of particular interest in various biology-related sciences like toxicology, pharmacology, immunology etc. If we want to assess hypothetical function of one given protein, then the approach is pretty straightforward - we perform a biological assay. However, in most cases we have a set containing hundreds or thousands of protein structures. We, of course cannot perform such number of experiments and thus an alternative approach is required. Might the best such approach is to do a computer modeling of a particular function. Those type of approaches in biology are known by the term **_in silico_**. An example of this is bacterial immunogenicity prediction by machine learning methods done by Dimitrov et al., 2020 [1].\n",
    "\n",
    "In order to model any biological properties such as immunogenicity or allergenicity, the protein structures should be represented as meaningful number or set of numbers which carry information of its biological properties. The fore mentioned numbers are knows as molecular descriptors. Encoded that way, various machine learning algorithms can be applied on the protein sequence to model the desired biologic features. However, proteins consist of hundreds or thousands amino acids and that large variance of length would lead to a different number of features for each protein structure. A way to avoid this is to apply auto- and cross covariance (ACC) transformation (Wold et al., 1993 [2]) on the descriptors-encoded protein sequence, which is the main topic of this present work.  "
   ]
  },
  {
   "cell_type": "markdown",
   "id": "b09486e8",
   "metadata": {},
   "source": [
    "### 2. Aims and tasks\n",
    "\n",
    "The library **Biopython** has reliable methods for working with proteins in FASTA format. However, in many cases we have to deal with fragments of protein structures, called **peptides** in plain text format.\n",
    "\n",
    "The aim of the project is to develop an algorithm for ACC-transformation of peptides. This has been achieved through the following steps:<br>$\\;\\;\\;\\;\\;\\;$1. Read a .txt file with peptides in plain text format.<br>$\\;\\;\\;\\;\\;\\;$2. Encode the peptides with descriptors<br>$\\;\\;\\;\\;\\;\\;$3. Apply ACC-transformation to the descriptors-encoded sequences.<br>$\\;\\;\\;\\;\\;\\;$4. Write the results in a .csv file."
   ]
  },
  {
   "cell_type": "markdown",
   "id": "8e82917d",
   "metadata": {},
   "source": [
    "### 3. Materials and methods\n",
    "\n",
    "#### 3.1. Preprocessing\n",
    "\n",
    "Before we start with the substantial work, we need to define some global variables which will find their usage later:"
   ]
  },
  {
   "cell_type": "code",
   "execution_count": 2,
   "id": "3b092199",
   "metadata": {},
   "outputs": [],
   "source": [
    "file_to_transform = \"demo_dataset.txt\"  # The .txt file with peptides in plain text format\n",
    "\n",
    "labels = []  # Labels for the .csv results-containing file\n",
    "\n",
    "lag = 7  # Can vary depending on the design of experiment\n",
    "\n",
    "descriptors_number = 5  # Depends on the type of the used descriptors\n",
    "\n",
    "descriptor_matrix = {}  # Dictionary with key = peptide and value = its descriptor-encoded amino acids\n",
    "\n",
    "acc_values = []  # 2D-array containing the ACC-transformed peptides"
   ]
  },
  {
   "cell_type": "markdown",
   "id": "6cd203aa",
   "metadata": {},
   "source": [
    "Now, we have to create appropriate `labels` for the .csv results-containing file. First column will contain the peptide, last column will contain the class to which every peptide belongs and between them will be the ACC-values:"
   ]
  },
  {
   "cell_type": "code",
   "execution_count": 3,
   "id": "4a2f8a73",
   "metadata": {},
   "outputs": [],
   "source": [
    "def create_fields():\n",
    "    \n",
    "    for lag_value in range(1, lag+1):\n",
    "        \n",
    "        for first_amino_acid_index in range(1, descriptors_number+1):\n",
    "            \n",
    "            for second_amino_acid_index in range(1, descriptors_number+1):\n",
    "                labels.append(f\"ACC{first_amino_acid_index}{second_amino_acid_index}{lag_value}\")\n",
    "                \n",
    "    labels.insert(0, \"Peptide\")\n",
    "    labels.insert(len(labels), \"Class\")"
   ]
  },
  {
   "cell_type": "markdown",
   "id": "b078a972",
   "metadata": {},
   "source": [
    "#### 3.2. Read peptides\n",
    "\n",
    "Having done the preprocessing, now we can read the `.txt` file which contains the peptides in plain text format. It contains only three peptides, but they will be completely enough for our purposes. The three peptides are **in vivo** confirmed human tumor epitopes (source - IEDB [3]). We have to store the peptides in the below defined local variable `peptides_list`. We also have to remove whitespace and new line characters (if present), otherwise later descriptors-encoding would raise exceptions:"
   ]
  },
  {
   "cell_type": "code",
   "execution_count": 4,
   "id": "49f34918",
   "metadata": {},
   "outputs": [],
   "source": [
    "def read_peptide():\n",
    "    \n",
    "    peptides_list = []\n",
    "    \n",
    "    lines = open(file_to_transform).readlines()\n",
    "    \n",
    "    for line in lines:\n",
    "        line = line.replace('\\n', '')\n",
    "        line = line.replace(' ', '')\n",
    "        peptides_list.append(line)\n",
    "        \n",
    "    return peptides_list"
   ]
  },
  {
   "cell_type": "markdown",
   "id": "ad59364c",
   "metadata": {},
   "source": [
    "#### 3.3. Encode peptides with descriptors\n",
    "\n",
    "Having read and stored the peptides, we can now process to encoding them with set of descriptors. Here we will use the $E$-descriptors which were proposed by Venkatarajan and Braun [4]. They derived five numerical values for each of the 20 naturally occurring amino acids based on the principal component analysis (PCA) of 237 physicochemical properties. They are represented in the `descriptors_values.py` file as a dictionary with `key` = amino acid (as a one letter code) and `value` = its corresponding $E$-descriptor. Since $E$-descriptors are 5 different types for each amino acid, we need to set the value of `descriptors_number` global variable to `5`. The `descriptors_values.py` file contains also the $Z$-descriptors (Hellberg et al., 1987 [5]). In order to use them instead, we need to set the value of `descriptors_number` global variable to `3`. \n",
    "If a record is not a valid sequence (one letter code-encoded peptide in plain text format) a proper user-friendly exception message should be raised and only valid records have to be processed."
   ]
  },
  {
   "cell_type": "code",
   "execution_count": 5,
   "id": "323ecccc",
   "metadata": {},
   "outputs": [],
   "source": [
    "def encode_peptides_with_descriptors():\n",
    "    \n",
    "    for peptide in read_peptide():\n",
    "        descriptor_matrix[peptide] = []\n",
    "        \n",
    "        try:\n",
    "            for amino_acid in peptide:\n",
    "                descriptor_matrix[peptide].append(DescriptorsValues.E_DESCRIPTORS_DICT[amino_acid])\n",
    "        except:\n",
    "            print(f\"'{peptide}' record is invalid - not a one letter-code encode peptide in a plain text format\")\n",
    "            del descriptor_matrix[peptide]"
   ]
  },
  {
   "cell_type": "markdown",
   "id": "33e76ce8",
   "metadata": {},
   "source": [
    "#### 3.4. ACC-transformation\n",
    "\n",
    "So far we have created a `dictionary` with `key` = peptide and `value` = 2-dimensional list containing a set of 5 descriptor values for each amino acid in a peptide sequence. Now we can perform the ACC-transformation for each peptide. The ACC (auto- and cross-covariance) transformation is given by the following formula:"
   ]
  },
  {
   "cell_type": "markdown",
   "id": "5712893e",
   "metadata": {},
   "source": [
    "$${ACC}_{j,k}(lag) = \\sum_{i}^{n-lag} \\frac{{E_{j,i}\\times}E_{k,i+lag}}{n-lag}$$"
   ]
  },
  {
   "cell_type": "markdown",
   "id": "b20913f9",
   "metadata": {},
   "source": [
    "Where:<br>$\\;\\;\\;\\;\\;\\;j, k$ - $E$-descriptors<br>$\\;\\;\\;\\;\\;\\;n$ - number of the amino acids in the\n",
    "peptide<br>$\\;\\;\\;\\;\\;\\;i$ - index of an amino acid in the peptide ($i$ = 1, 2, 3, ..., $n$)<br>$\\;\\;\\;\\;\\;\\;lag$ - lag value"
   ]
  },
  {
   "cell_type": "markdown",
   "id": "fa544f6e",
   "metadata": {},
   "source": [
    "An intuitive approach of computing the ACC-values will be to loop through the 2-dimensional list for each peptide. This will require the use of several nested `for` loops and might not be computationally efficient for large datasets. In order to overcome this problem, linear algebra comes to a rescue. `Python` library `NumPy` has several built-in methods for working with linear structures, including matrix multiplication. All we have to do is to convert a python list to `numpy.array`."
   ]
  },
  {
   "cell_type": "code",
   "execution_count": 6,
   "id": "3c495b70",
   "metadata": {},
   "outputs": [],
   "source": [
    "def matrix_multiplication():\n",
    "    \n",
    "    for peptide, matrix in descriptor_matrix.items():\n",
    "        record = [peptide]\n",
    "        length = len(matrix)\n",
    "        \n",
    "        for lag_value in range(1, lag + 1):\n",
    "            np_array = np.array(matrix)\n",
    "            first_matrix = (np_array[:length - lag_value, :length]).transpose()\n",
    "            second_matrix = np_array[0 + lag_value:, :length]\n",
    "            result = np.matmul(first_matrix, second_matrix)\n",
    "            \n",
    "            for x in result:\n",
    "                \n",
    "                for y in x:\n",
    "                    acc_value = y / (length - lag_value)\n",
    "                    record.append(acc_value)\n",
    "                    \n",
    "        # '1' for immunogens, '0' for non-immunogens; since the three peptides in our dataset are immunogenic, we write '1'\n",
    "        record.append(1)\n",
    "        acc_values.append(record)"
   ]
  },
  {
   "cell_type": "markdown",
   "id": "b6a4128c",
   "metadata": {},
   "source": [
    "#### 3.5. Create results file\n",
    "\n",
    "We have now applied the ACC-transformation for every peptide in our `demo_database.txt` dataset. Final step is to write the results in a `.csv` file:"
   ]
  },
  {
   "cell_type": "code",
   "execution_count": 7,
   "id": "e1cf0542",
   "metadata": {},
   "outputs": [],
   "source": [
    "def create_csv_file():\n",
    "    \n",
    "    with open('demo_database_results.csv', 'w', newline='') as f:\n",
    "        write = csv.writer(f)\n",
    "        write.writerow(labels)\n",
    "        write.writerows(acc_values)"
   ]
  },
  {
   "cell_type": "markdown",
   "id": "00f4e001",
   "metadata": {},
   "source": [
    "#### 3.6. Run project\n",
    "\n",
    "Now we can wrap up our code and execute it:<br>$\\;\\;\\;\\;\\;\\;$<font color='red'>Do not forget to execute all the cells in their corresponding order before executing this last cell!</font>"
   ]
  },
  {
   "cell_type": "code",
   "execution_count": 8,
   "id": "b000583d",
   "metadata": {},
   "outputs": [],
   "source": [
    "create_fields()\n",
    "read_peptide()\n",
    "encode_peptides_with_descriptors()\n",
    "matrix_multiplication()\n",
    "create_csv_file()"
   ]
  },
  {
   "cell_type": "markdown",
   "id": "ac9ef991",
   "metadata": {},
   "source": [
    "### 4. Future perspectives\n",
    "\n",
    "Having quantitative representation of peptide structures as a result of the now-developed ACC-transforming algorithm, a various machine learning methods (Random forest, XGBoost, Support vector machine etc.) could be applied in order to generalize certain biological functions (in our case - tumor immunogenicity). However, a much larger data set will be required in pair with a negative set of peptides which does not induce immunogenicity. "
   ]
  }
 ],
 "metadata": {
  "kernelspec": {
   "display_name": "Python 3 (ipykernel)",
   "language": "python",
   "name": "python3"
  },
  "language_info": {
   "codemirror_mode": {
    "name": "ipython",
    "version": 3
   },
   "file_extension": ".py",
   "mimetype": "text/x-python",
   "name": "python",
   "nbconvert_exporter": "python",
   "pygments_lexer": "ipython3",
   "version": "3.7.9"
  }
 },
 "nbformat": 4,
 "nbformat_minor": 5
}
